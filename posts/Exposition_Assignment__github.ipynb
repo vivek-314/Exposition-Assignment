{
  "nbformat": 4,
  "nbformat_minor": 0,
  "metadata": {
    "colab": {
      "provenance": []
    },
    "kernelspec": {
      "name": "python3",
      "display_name": "Python 3"
    },
    "language_info": {
      "name": "python"
    }
  },
  "cells": [
    {
      "cell_type": "markdown",
      "source": [
        "# Python Library -- **Tabulate**\n"
      ],
      "metadata": {
        "id": "5TIDGuW1Z6KY"
      }
    },
    {
      "cell_type": "markdown",
      "source": [
        "# Introduction to Tabulate\n",
        "Python is one of the most popular programming language and is widely used by programmers. It's syntax are easy to understand which makes it beginner's first choice.\n",
        "\n",
        "it also contains a large number of libraries which can be directly imported and used in our program (for example, Pandas, Numpy, Matplotlib). One of such libraries is __Tabulate__ which is specifically used for creating well structured tables in python.\n",
        "\n",
        "In this blog you will get to know about tabulate library, its use , examples and its practical life use cases.\n",
        "\n"
      ],
      "metadata": {
        "id": "mksRKRTHbjXt"
      }
    },
    {
      "cell_type": "markdown",
      "source": [
        "## What is Tablulate?\n",
        "The tabulate library in Python is a powerful tool for creating formatted tables from various data sources. It offers an easy and efficient way to display data in a well-structured, readable format, which is particularly useful for data scientists, analysts, and developers.\n",
        "\n",
        "It provides various options of table to keep your data organised as per your usage."
      ],
      "metadata": {
        "id": "BPR7I3cpb7JZ"
      }
    },
    {
      "cell_type": "markdown",
      "source": [
        "## Key Uses of tabulate\n",
        "1. Displaying Structured Data\n",
        "\n",
        "-     Converts lists, dictionaries, and pandas DataFrames into well-formatted tables.\n",
        "-   Ideal for logging, debugging, and presenting results in a readable format.\n",
        "\n",
        "2. Generating Reports\n",
        "\n",
        "- Helps in creating clean tables for console output.\n",
        "- Supports exporting tables in various formats like Markdown, HTML, and LaTeX for documentation or presentations.\n",
        "\n",
        "3. Integrating with Data Processing Libraries\n",
        "\n",
        "- Works well with pandas, allowing DataFrame tables to be displayed with custom formatting."
      ],
      "metadata": {
        "id": "jjwSD_f_do8O"
      }
    },
    {
      "cell_type": "markdown",
      "source": [
        "## Utility & Features\n",
        "#### 1. Supports Multiple Table Formats\n",
        "\n",
        "- Styles include fancy_grid, plain, pipe, html, latex, etc.\n",
        "\n",
        "#### 2. Customizable Headers & Indices\n",
        "\n",
        "- Allows adding headers, row indices, and column alignments.\n",
        "\n",
        "#### 3. Lightweight & Easy to Use\n",
        "\n",
        "- Requires minimal setup and works efficiently for quick tabular displays.\n",
        "\n",
        "#### 4. Markdown & HTML Support\n",
        "\n",
        "- Ideal for generating tables in blogs, reports, and documentation."
      ],
      "metadata": {
        "id": "7Qif3LN8gEkt"
      }
    },
    {
      "cell_type": "markdown",
      "source": [
        "#### Till now you must have known how useful tabulate library is in python.\n",
        "\n",
        "Lets learn about Tabulate from basic- installation, setup, types of data, uses etc."
      ],
      "metadata": {
        "id": "Hr77rwayoFzW"
      }
    },
    {
      "cell_type": "markdown",
      "source": [
        "## Installation and setup"
      ],
      "metadata": {
        "id": "BbSuQi6Kh8nP"
      }
    },
    {
      "cell_type": "markdown",
      "source": [
        "To install Tabulate library in windows, open your command prompt window and run the following code.![Screenshot 2025-02-24 213528.png](https://github.com/vivek-314/Exposition-Assignment/blob/master/posts/Screenshot%202025-02-24%20213528.png)
"You can see it is installed and ready to use!"
      ],
      "metadata": {
        "id": "85AcLJTko-z4"
      }
    },
    {
      "cell_type": "markdown",
      "source": [
        "As I am currently working in Google Colab notebook i will install it using same command."
      ],
      "metadata": {
        "id": "4EKoNLbat98A"
      }
    },
    {
      "cell_type": "code",
      "source": [
        "pip install tabulate"
      ],
      "metadata": {
        "colab": {
          "base_uri": "https://localhost:8080/"
        },
        "id": "YSIqeporhOsl",
        "outputId": "41464515-2aae-491e-854e-c541a87023e3"
      },
      "execution_count": null,
      "outputs": [
        {
          "output_type": "stream",
          "name": "stdout",
          "text": [
            "Requirement already satisfied: tabulate in /usr/local/lib/python3.11/dist-packages (0.9.0)\n"
          ]
        }
      ]
    },
    {
      "cell_type": "markdown",
      "source": [
        "you can see it is already there so lets now start playing with function of this library!!"
      ],
      "metadata": {
        "id": "Hb3PIsGPuRR0"
      }
    },
    {
      "cell_type": "markdown",
      "source": [
        "The following code snippet demonstrates how to format and display tabular data using Python:"
      ],
      "metadata": {
        "id": "T8E9LcaKxP2o"
      }
    },
    {
      "cell_type": "code",
      "execution_count": null,
      "metadata": {
        "id": "f5eXacGrOF6r"
      },
      "outputs": [],
      "source": [
        " from tabulate import tabulate"
      ]
    },
    {
      "cell_type": "code",
      "source": [
        "table = [[\"boy1\",72,175,\"Gujarat\"],[\"boy2\",53,183,\"Maharashtra\"],[\"boy3\",80,173,\"Telangana\"],[\"boy4\",65,160,\"Rajasthan\"]]\n",
        "print(tabulate(table))"
      ],
      "metadata": {
        "colab": {
          "base_uri": "https://localhost:8080/"
        },
        "id": "h1zmQWb0R_Am",
        "outputId": "9305956c-99ae-4221-ebcb-a7eed481c3a8"
      },
      "execution_count": null,
      "outputs": [
        {
          "output_type": "stream",
          "name": "stdout",
          "text": [
            "----  --  ---  -----------\n",
            "boy1  72  175  Gujarat\n",
            "boy2  53  183  Maharashtra\n",
            "boy3  80  173  Telangana\n",
            "boy4  65  160  Rajasthan\n",
            "----  --  ---  -----------\n"
          ]
        }
      ]
    },
    {
      "cell_type": "markdown",
      "source": [
        "## Headers"
      ],
      "metadata": {
        "id": "vhBIukFa1Qya"
      }
    },
    {
      "cell_type": "markdown",
      "source": [
        "We can use Headers argument to add headings to the columns of our table."
      ],
      "metadata": {
        "id": "wj303XUm1U0w"
      }
    },
    {
      "cell_type": "code",
      "source": [
        "head = [\"Name\",\"Weight\",\"Height\",\"State\"]\n",
        "print(tabulate(table,headers=head))"
      ],
      "metadata": {
        "colab": {
          "base_uri": "https://localhost:8080/"
        },
        "id": "UyNAXUA71SKy",
        "outputId": "039d8248-9b1d-45ab-c4c4-35090c619ea9"
      },
      "execution_count": null,
      "outputs": [
        {
          "output_type": "stream",
          "name": "stdout",
          "text": [
            "Name      Weight    Height  State\n",
            "------  --------  --------  -----------\n",
            "boy1          72       175  Gujarat\n",
            "boy2          53       183  Maharashtra\n",
            "boy3          80       173  Telangana\n",
            "boy4          65       160  Rajasthan\n"
          ]
        }
      ]
    },
    {
      "cell_type": "markdown",
      "source": [
        "If we wish to have the first row itself as the header, we can use headers=\"firstrow\""
      ],
      "metadata": {
        "id": "_vtxXfAF1hYj"
      }
    },
    {
      "cell_type": "code",
      "source": [
        "print(tabulate(table,headers=\"firstrow\"))"
      ],
      "metadata": {
        "colab": {
          "base_uri": "https://localhost:8080/"
        },
        "id": "3Z1JBXfq1XnB",
        "outputId": "3b0264bc-aa7f-48d2-e087-53e4e0007e88"
      },
      "execution_count": null,
      "outputs": [
        {
          "output_type": "stream",
          "name": "stdout",
          "text": [
            "boy1      72    175  Gujarat\n",
            "------  ----  -----  -----------\n",
            "boy2      53    183  Maharashtra\n",
            "boy3      80    173  Telangana\n",
            "boy4      65    160  Rajasthan\n"
          ]
        }
      ]
    },
    {
      "cell_type": "markdown",
      "source": [
        "If we have a dictionary or a dataframe and we want the keys to be the header, we can use headers=\"keys\"."
      ],
      "metadata": {
        "id": "YAbgdWxU1xJ2"
      }
    },
    {
      "cell_type": "code",
      "source": [
        "print(tabulate({\"Colours\":[\"Blue\",\"Green\",\"Red\"],\n",
        "                \"Count\":[\"23\",\"42\",\"36\"],\n",
        "                \"object\":[\"ball\",\"pencil\",\"pens\"]},\n",
        "               headers=\"keys\"))"
      ],
      "metadata": {
        "colab": {
          "base_uri": "https://localhost:8080/"
        },
        "id": "RSi57VIc1mXI",
        "outputId": "a9581806-ec3a-4a04-9b77-64fda65ea13d"
      },
      "execution_count": null,
      "outputs": [
        {
          "output_type": "stream",
          "name": "stdout",
          "text": [
            "Colours      Count  object\n",
            "---------  -------  --------\n",
            "Blue            23  ball\n",
            "Green           42  pencil\n",
            "Red             36  pens\n"
          ]
        }
      ]
    },
    {
      "cell_type": "markdown",
      "source": [
        "## Row Indices\n"
      ],
      "metadata": {
        "id": "y8ZxJW0f2rHF"
      }
    },
    {
      "cell_type": "markdown",
      "source": [
        "To add a column showing the indices, we use showindex=\"always\" or showindex=True argument to tabulate()"
      ],
      "metadata": {
        "id": "SJSNPN-M3Kk1"
      }
    },
    {
      "cell_type": "code",
      "source": [
        "print(tabulate(table,headers=head, showindex=\"always\"))  # we are continuing the same dataset and by modifying it we can see difference."
      ],
      "metadata": {
        "colab": {
          "base_uri": "https://localhost:8080/"
        },
        "id": "8ZELPVG71zwW",
        "outputId": "35f93ad6-f290-4bab-cd85-c0ffbe977a52"
      },
      "execution_count": null,
      "outputs": [
        {
          "output_type": "stream",
          "name": "stdout",
          "text": [
            "    Name      Weight    Height  State\n",
            "--  ------  --------  --------  -----------\n",
            " 0  boy1          72       175  Gujarat\n",
            " 1  boy2          53       183  Maharashtra\n",
            " 2  boy3          80       173  Telangana\n",
            " 3  boy4          65       160  Rajasthan\n"
          ]
        }
      ]
    },
    {
      "cell_type": "markdown",
      "source": [
        "## Table format"
      ],
      "metadata": {
        "id": "FWEIxZ00378I"
      }
    },
    {
      "cell_type": "markdown",
      "source": [
        "There are multiple ways in which a table can be layed out in plain text. We use tablefmt to format a table.\n",
        "\n",
        "\n",
        "A few examples are listed below"
      ],
      "metadata": {
        "id": "e5HY2q7A4CKo"
      }
    },
    {
      "cell_type": "markdown",
      "source": [
        "### 1.Plain\n",
        "As the name suggests it is plain and does not have anny line."
      ],
      "metadata": {
        "id": "k7vTVfem4SIy"
      }
    },
    {
      "cell_type": "code",
      "source": [
        "table = [[\"boy1\",72,175,\"Gujarat\"],[\"boy2\",53,183,\"Maharashtra\"],[\"boy3\",80,173,\"Telangana\"],[\"boy4\",65,160,\"Rajasthan\"]]\n",
        "print(tabulate(table,headers=head,tablefmt=\"plain\"))"
      ],
      "metadata": {
        "colab": {
          "base_uri": "https://localhost:8080/"
        },
        "id": "UEMwHM1_3ZNa",
        "outputId": "5bf4ea08-eea0-41fa-db75-f5357d471048"
      },
      "execution_count": null,
      "outputs": [
        {
          "output_type": "stream",
          "name": "stdout",
          "text": [
            "Name      Weight    Height  State\n",
            "boy1          72       175  Gujarat\n",
            "boy2          53       183  Maharashtra\n",
            "boy3          80       173  Telangana\n",
            "boy4          65       160  Rajasthan\n"
          ]
        }
      ]
    },
    {
      "cell_type": "markdown",
      "source": [
        "### 2. Simple\n"
      ],
      "metadata": {
        "id": "ZMT3S4Ak4w33"
      }
    },
    {
      "cell_type": "markdown",
      "source": [
        "It is default type of table if table formate  is not specified it will be simple."
      ],
      "metadata": {
        "id": "fnPSG4uw40Fr"
      }
    },
    {
      "cell_type": "code",
      "source": [
        "print(tabulate(table,headers=head,tablefmt=\"simple\"))"
      ],
      "metadata": {
        "colab": {
          "base_uri": "https://localhost:8080/"
        },
        "id": "gvR982YT4gJV",
        "outputId": "4c9d64bf-a170-4de0-cb6e-59874192135b"
      },
      "execution_count": null,
      "outputs": [
        {
          "output_type": "stream",
          "name": "stdout",
          "text": [
            "Name      Weight    Height  State\n",
            "------  --------  --------  -----------\n",
            "boy1          72       175  Gujarat\n",
            "boy2          53       183  Maharashtra\n",
            "boy3          80       173  Telangana\n",
            "boy4          65       160  Rajasthan\n"
          ]
        }
      ]
    },
    {
      "cell_type": "markdown",
      "source": [
        "### 3.Grid"
      ],
      "metadata": {
        "id": "QGqXzbMr5CtL"
      }
    },
    {
      "cell_type": "markdown",
      "source": [
        "A table format that adds borders around each cell for a clear and organized display of data.\n",
        "\n"
      ],
      "metadata": {
        "id": "0Po9rJZZ5O0h"
      }
    },
    {
      "cell_type": "code",
      "source": [
        "print(tabulate(table,headers=head,tablefmt=\"grid\"))"
      ],
      "metadata": {
        "colab": {
          "base_uri": "https://localhost:8080/"
        },
        "id": "UR-lJEUH4zhS",
        "outputId": "61d48c66-6113-441a-9566-26bd91c3c5ac"
      },
      "execution_count": null,
      "outputs": [
        {
          "output_type": "stream",
          "name": "stdout",
          "text": [
            "+--------+----------+----------+-------------+\n",
            "| Name   |   Weight |   Height | State       |\n",
            "+========+==========+==========+=============+\n",
            "| boy1   |       72 |      175 | Gujarat     |\n",
            "+--------+----------+----------+-------------+\n",
            "| boy2   |       53 |      183 | Maharashtra |\n",
            "+--------+----------+----------+-------------+\n",
            "| boy3   |       80 |      173 | Telangana   |\n",
            "+--------+----------+----------+-------------+\n",
            "| boy4   |       65 |      160 | Rajasthan   |\n",
            "+--------+----------+----------+-------------+\n"
          ]
        }
      ]
    },
    {
      "cell_type": "markdown",
      "source": [
        "lineabove=Line(\"+\", \"-\", \"+\", \"+\"),\n",
        "\n",
        "linebelowheader=Line(\"+\", \"=\", \"+\", \"+\"),\n",
        "\n",
        "linebetweenrows=Line(\"+\", \"-\", \"+\", \"+\"),\n",
        "\n",
        "linebelow=Line(\"+\", \"-\", \"+\", \"+\"),\n",
        "\n",
        "headerrow=DataRow(\"|\", \"|\", \"|\"),\n",
        "\n",
        "datarow=DataRow(\"|\", \"|\", \"|\"),\n",
        "\n",
        "padding=1,\n",
        "\n",
        "with_header_hide=\n",
        "\n",
        "__this is the default what grid function plots graph with__\n"
      ],
      "metadata": {
        "id": "0t4ks2NK7bmN"
      }
    },
    {
      "cell_type": "markdown",
      "source": [
        "#### 3.1 Simple_grid"
      ],
      "metadata": {
        "id": "NIfB_5C15t48"
      }
    },
    {
      "cell_type": "markdown",
      "source": [
        "The \"simple_grid\" format in the tabulate library creates a table with hyphens (-) for horizontal lines and spaces for column separation, offering a clean and readable output."
      ],
      "metadata": {
        "id": "c6I8K-PN8dJJ"
      }
    },
    {
      "cell_type": "code",
      "source": [
        "print(tabulate(table,headers=head,tablefmt=\"simple_grid\"))"
      ],
      "metadata": {
        "colab": {
          "base_uri": "https://localhost:8080/"
        },
        "id": "fk7N_e-A5NJT",
        "outputId": "53cda7b1-8e0c-4bae-b2e1-c21c4f002676"
      },
      "execution_count": null,
      "outputs": [
        {
          "output_type": "stream",
          "name": "stdout",
          "text": [
            "┌────────┬──────────┬──────────┬─────────────┐\n",
            "│ Name   │   Weight │   Height │ State       │\n",
            "├────────┼──────────┼──────────┼─────────────┤\n",
            "│ boy1   │       72 │      175 │ Gujarat     │\n",
            "├────────┼──────────┼──────────┼─────────────┤\n",
            "│ boy2   │       53 │      183 │ Maharashtra │\n",
            "├────────┼──────────┼──────────┼─────────────┤\n",
            "│ boy3   │       80 │      173 │ Telangana   │\n",
            "├────────┼──────────┼──────────┼─────────────┤\n",
            "│ boy4   │       65 │      160 │ Rajasthan   │\n",
            "└────────┴──────────┴──────────┴─────────────┘\n"
          ]
        }
      ]
    },
    {
      "cell_type": "markdown",
      "source": [
        "#### 3.2 Rounded_grid\n",
        "rounded_grid (it is a simple grid with rounded corners)"
      ],
      "metadata": {
        "id": "HPnFCnWF9B_W"
      }
    },
    {
      "cell_type": "code",
      "source": [
        "print(tabulate(table,headers=head,tablefmt=\"rounded_grid\"))"
      ],
      "metadata": {
        "colab": {
          "base_uri": "https://localhost:8080/"
        },
        "id": "bDhnWPjn6DpM",
        "outputId": "8eb2c66a-b03c-4ec1-a01b-0ddee84eaa64"
      },
      "execution_count": null,
      "outputs": [
        {
          "output_type": "stream",
          "name": "stdout",
          "text": [
            "╭────────┬──────────┬──────────┬─────────────╮\n",
            "│ Name   │   Weight │   Height │ State       │\n",
            "├────────┼──────────┼──────────┼─────────────┤\n",
            "│ boy1   │       72 │      175 │ Gujarat     │\n",
            "├────────┼──────────┼──────────┼─────────────┤\n",
            "│ boy2   │       53 │      183 │ Maharashtra │\n",
            "├────────┼──────────┼──────────┼─────────────┤\n",
            "│ boy3   │       80 │      173 │ Telangana   │\n",
            "├────────┼──────────┼──────────┼─────────────┤\n",
            "│ boy4   │       65 │      160 │ Rajasthan   │\n",
            "╰────────┴──────────┴──────────┴─────────────╯\n"
          ]
        }
      ]
    },
    {
      "cell_type": "markdown",
      "source": [
        "#### 3.3 Heavy_grid\n",
        "uses bold lines"
      ],
      "metadata": {
        "id": "_rWG-TtR9TeY"
      }
    },
    {
      "cell_type": "code",
      "source": [
        "print(tabulate(table,headers=head,tablefmt=\"heavy_grid\"))"
      ],
      "metadata": {
        "colab": {
          "base_uri": "https://localhost:8080/"
        },
        "id": "x_Gq5rJF9J7Z",
        "outputId": "729de814-6648-40d5-cc3d-cd6f8a3adc47"
      },
      "execution_count": null,
      "outputs": [
        {
          "output_type": "stream",
          "name": "stdout",
          "text": [
            "┏━━━━━━━━┳━━━━━━━━━━┳━━━━━━━━━━┳━━━━━━━━━━━━━┓\n",
            "┃ Name   ┃   Weight ┃   Height ┃ State       ┃\n",
            "┣━━━━━━━━╋━━━━━━━━━━╋━━━━━━━━━━╋━━━━━━━━━━━━━┫\n",
            "┃ boy1   ┃       72 ┃      175 ┃ Gujarat     ┃\n",
            "┣━━━━━━━━╋━━━━━━━━━━╋━━━━━━━━━━╋━━━━━━━━━━━━━┫\n",
            "┃ boy2   ┃       53 ┃      183 ┃ Maharashtra ┃\n",
            "┣━━━━━━━━╋━━━━━━━━━━╋━━━━━━━━━━╋━━━━━━━━━━━━━┫\n",
            "┃ boy3   ┃       80 ┃      173 ┃ Telangana   ┃\n",
            "┣━━━━━━━━╋━━━━━━━━━━╋━━━━━━━━━━╋━━━━━━━━━━━━━┫\n",
            "┃ boy4   ┃       65 ┃      160 ┃ Rajasthan   ┃\n",
            "┗━━━━━━━━┻━━━━━━━━━━┻━━━━━━━━━━┻━━━━━━━━━━━━━┛\n"
          ]
        }
      ]
    },
    {
      "cell_type": "markdown",
      "source": [
        "#### 3.4 Mixed_grid\n",
        "uses a mix of both thin and bold lines"
      ],
      "metadata": {
        "id": "N4dXi6rN9c2r"
      }
    },
    {
      "cell_type": "code",
      "source": [
        "print(tabulate(table,headers=head,tablefmt=\"mixed_grid\"))"
      ],
      "metadata": {
        "colab": {
          "base_uri": "https://localhost:8080/"
        },
        "id": "Wt8DwySf9auz",
        "outputId": "ffe66b64-e70c-42c5-ef6f-28752c3fd197"
      },
      "execution_count": null,
      "outputs": [
        {
          "output_type": "stream",
          "name": "stdout",
          "text": [
            "┍━━━━━━━━┯━━━━━━━━━━┯━━━━━━━━━━┯━━━━━━━━━━━━━┑\n",
            "│ Name   │   Weight │   Height │ State       │\n",
            "┝━━━━━━━━┿━━━━━━━━━━┿━━━━━━━━━━┿━━━━━━━━━━━━━┥\n",
            "│ boy1   │       72 │      175 │ Gujarat     │\n",
            "├────────┼──────────┼──────────┼─────────────┤\n",
            "│ boy2   │       53 │      183 │ Maharashtra │\n",
            "├────────┼──────────┼──────────┼─────────────┤\n",
            "│ boy3   │       80 │      173 │ Telangana   │\n",
            "├────────┼──────────┼──────────┼─────────────┤\n",
            "│ boy4   │       65 │      160 │ Rajasthan   │\n",
            "┕━━━━━━━━┷━━━━━━━━━━┷━━━━━━━━━━┷━━━━━━━━━━━━━┙\n"
          ]
        }
      ]
    },
    {
      "cell_type": "markdown",
      "source": [
        "#### 3.5 Double_grid\n",
        "Uses double lines\n"
      ],
      "metadata": {
        "id": "gxhee7SU9r1o"
      }
    },
    {
      "cell_type": "code",
      "source": [
        "print(tabulate(table,headers=head,tablefmt=\"double_grid\"))"
      ],
      "metadata": {
        "colab": {
          "base_uri": "https://localhost:8080/"
        },
        "id": "Sr7ku-yF9nFN",
        "outputId": "a4fec2da-2bff-4a73-d2c2-2f78ebefff03"
      },
      "execution_count": null,
      "outputs": [
        {
          "output_type": "stream",
          "name": "stdout",
          "text": [
            "╔════════╦══════════╦══════════╦═════════════╗\n",
            "║ Name   ║   Weight ║   Height ║ State       ║\n",
            "╠════════╬══════════╬══════════╬═════════════╣\n",
            "║ boy1   ║       72 ║      175 ║ Gujarat     ║\n",
            "╠════════╬══════════╬══════════╬═════════════╣\n",
            "║ boy2   ║       53 ║      183 ║ Maharashtra ║\n",
            "╠════════╬══════════╬══════════╬═════════════╣\n",
            "║ boy3   ║       80 ║      173 ║ Telangana   ║\n",
            "╠════════╬══════════╬══════════╬═════════════╣\n",
            "║ boy4   ║       65 ║      160 ║ Rajasthan   ║\n",
            "╚════════╩══════════╩══════════╩═════════════╝\n"
          ]
        }
      ]
    },
    {
      "cell_type": "markdown",
      "source": [
        "#### 3.6 Fancy_grid\n",
        "Uses a mix of single and double lines\n",
        "\n",
        "\n"
      ],
      "metadata": {
        "id": "faDwtxTK91mF"
      }
    },
    {
      "cell_type": "code",
      "source": [
        "print(tabulate(table,headers=head,tablefmt=\"fancy_grid\"))"
      ],
      "metadata": {
        "colab": {
          "base_uri": "https://localhost:8080/"
        },
        "id": "W1uvd4Yv9rNW",
        "outputId": "d8ba95c9-b53d-46d4-b215-18bfab9b17ef"
      },
      "execution_count": null,
      "outputs": [
        {
          "output_type": "stream",
          "name": "stdout",
          "text": [
            "╒════════╤══════════╤══════════╤═════════════╕\n",
            "│ Name   │   Weight │   Height │ State       │\n",
            "╞════════╪══════════╪══════════╪═════════════╡\n",
            "│ boy1   │       72 │      175 │ Gujarat     │\n",
            "├────────┼──────────┼──────────┼─────────────┤\n",
            "│ boy2   │       53 │      183 │ Maharashtra │\n",
            "├────────┼──────────┼──────────┼─────────────┤\n",
            "│ boy3   │       80 │      173 │ Telangana   │\n",
            "├────────┼──────────┼──────────┼─────────────┤\n",
            "│ boy4   │       65 │      160 │ Rajasthan   │\n",
            "╘════════╧══════════╧══════════╧═════════════╛\n"
          ]
        }
      ]
    },
    {
      "cell_type": "markdown",
      "source": [
        "#### 4. Github\n",
        "generates tables in Markdown style, making it ideal for documentation and README files."
      ],
      "metadata": {
        "id": "OwqrWOks-LUa"
      }
    },
    {
      "cell_type": "code",
      "source": [
        "print(tabulate(table,headers=head,tablefmt=\"github\"))"
      ],
      "metadata": {
        "colab": {
          "base_uri": "https://localhost:8080/"
        },
        "id": "MM77lXeC-AjR",
        "outputId": "2d5b0728-2c73-493f-85d5-1aef84899132"
      },
      "execution_count": null,
      "outputs": [
        {
          "output_type": "stream",
          "name": "stdout",
          "text": [
            "| Name   |   Weight |   Height | State       |\n",
            "|--------|----------|----------|-------------|\n",
            "| boy1   |       72 |      175 | Gujarat     |\n",
            "| boy2   |       53 |      183 | Maharashtra |\n",
            "| boy3   |       80 |      173 | Telangana   |\n",
            "| boy4   |       65 |      160 | Rajasthan   |\n"
          ]
        }
      ]
    },
    {
      "cell_type": "markdown",
      "source": [
        "#### 5. Outline\n",
        "it is same as __Grid__ the only difference between them is, in outline there are no lines present between two rows and in Grid there are lines between rows.\n",
        "\n",
        "example of outline are:"
      ],
      "metadata": {
        "id": "6WLo5Sox_nWG"
      }
    },
    {
      "cell_type": "code",
      "source": [
        "print(tabulate(table,headers=head,tablefmt=\"outline\"))\n",
        "# you can see here no line between rows."
      ],
      "metadata": {
        "colab": {
          "base_uri": "https://localhost:8080/"
        },
        "id": "kDmbrUk6-Qus",
        "outputId": "9f72825c-947d-4d03-83f9-bffe5a5032ff"
      },
      "execution_count": null,
      "outputs": [
        {
          "output_type": "stream",
          "name": "stdout",
          "text": [
            "+--------+----------+----------+-------------+\n",
            "| Name   |   Weight |   Height | State       |\n",
            "+========+==========+==========+=============+\n",
            "| boy1   |       72 |      175 | Gujarat     |\n",
            "| boy2   |       53 |      183 | Maharashtra |\n",
            "| boy3   |       80 |      173 | Telangana   |\n",
            "| boy4   |       65 |      160 | Rajasthan   |\n",
            "+--------+----------+----------+-------------+\n"
          ]
        }
      ]
    },
    {
      "cell_type": "markdown",
      "source": [
        "All other outline_simple stc. are same as grid_simple etc. without lines between rows."
      ],
      "metadata": {
        "id": "CfMF98zVBCBO"
      }
    },
    {
      "cell_type": "markdown",
      "source": [
        "#### 6. Presto\n",
        "The presto table format in tabulate mimics the output style of the Presto SQL command-line interface, displaying clean, grid-like tables."
      ],
      "metadata": {
        "id": "06TLNfSFCF8R"
      }
    },
    {
      "cell_type": "code",
      "source": [
        "print(tabulate(table,headers=head,tablefmt=\"presto\"))"
      ],
      "metadata": {
        "colab": {
          "base_uri": "https://localhost:8080/"
        },
        "id": "ly88JHyYA6jL",
        "outputId": "bd715fd9-7b15-47a2-832f-590e8de03071"
      },
      "execution_count": null,
      "outputs": [
        {
          "output_type": "stream",
          "name": "stdout",
          "text": [
            " Name   |   Weight |   Height | State\n",
            "--------+----------+----------+-------------\n",
            " boy1   |       72 |      175 | Gujarat\n",
            " boy2   |       53 |      183 | Maharashtra\n",
            " boy3   |       80 |      173 | Telangana\n",
            " boy4   |       65 |      160 | Rajasthan\n"
          ]
        }
      ]
    },
    {
      "cell_type": "markdown",
      "source": [
        "#### 7. Psql\n",
        "The psql table format in tabulate mimics the output style of PostgreSQL, displaying tables with aligned columns and borders for better readability in SQL-like environments."
      ],
      "metadata": {
        "id": "Re-qZ8FdCiMg"
      }
    },
    {
      "cell_type": "code",
      "source": [
        "print(tabulate(table,headers=head,tablefmt=\"psql\"))"
      ],
      "metadata": {
        "colab": {
          "base_uri": "https://localhost:8080/"
        },
        "id": "0NtmIS_sCekW",
        "outputId": "b0685270-52b2-41d4-8a97-cfdcb41aec20"
      },
      "execution_count": null,
      "outputs": [
        {
          "output_type": "stream",
          "name": "stdout",
          "text": [
            "+--------+----------+----------+-------------+\n",
            "| Name   |   Weight |   Height | State       |\n",
            "|--------+----------+----------+-------------|\n",
            "| boy1   |       72 |      175 | Gujarat     |\n",
            "| boy2   |       53 |      183 | Maharashtra |\n",
            "| boy3   |       80 |      173 | Telangana   |\n",
            "| boy4   |       65 |      160 | Rajasthan   |\n",
            "+--------+----------+----------+-------------+\n"
          ]
        }
      ]
    },
    {
      "cell_type": "markdown",
      "source": [
        "#### 8. Pipe\n",
        "Uses \"|\" characters to separate columns, creating a simple and clean table format."
      ],
      "metadata": {
        "id": "QsObhKKEC5GA"
      }
    },
    {
      "cell_type": "code",
      "source": [
        "print(tabulate(table,headers=head,tablefmt=\"pipe\"))"
      ],
      "metadata": {
        "colab": {
          "base_uri": "https://localhost:8080/"
        },
        "id": "KDJTpVWbC2QA",
        "outputId": "9ac1ab0a-3444-4243-d6f5-7a78465359b9"
      },
      "execution_count": null,
      "outputs": [
        {
          "output_type": "stream",
          "name": "stdout",
          "text": [
            "| Name   |   Weight |   Height | State       |\n",
            "|:-------|---------:|---------:|:------------|\n",
            "| boy1   |       72 |      175 | Gujarat     |\n",
            "| boy2   |       53 |      183 | Maharashtra |\n",
            "| boy3   |       80 |      173 | Telangana   |\n",
            "| boy4   |       65 |      160 | Rajasthan   |\n"
          ]
        }
      ]
    },
    {
      "cell_type": "markdown",
      "source": [
        "### 9. Asciidoc\n",
        "The asciidoc function in tabulate formats tables as AsciiDoc-style markup, making them suitable for documentation and publishing.\n"
      ],
      "metadata": {
        "id": "pSAw1SheDRNF"
      }
    },
    {
      "cell_type": "code",
      "source": [
        "print(tabulate(table,headers=head,tablefmt=\"asciidoc\"))"
      ],
      "metadata": {
        "colab": {
          "base_uri": "https://localhost:8080/"
        },
        "id": "nOZJft3KDEbw",
        "outputId": "ec09742d-96b4-4cd0-f76b-dbe343b42f2b"
      },
      "execution_count": null,
      "outputs": [
        {
          "output_type": "stream",
          "name": "stdout",
          "text": [
            "[cols=\"8<,10>,10>,13<\",options=\"header\"]\n",
            "|====\n",
            "| Name   |   Weight |   Height | State       \n",
            "| boy1   |       72 |      175 | Gujarat     \n",
            "| boy2   |       53 |      183 | Maharashtra \n",
            "| boy3   |       80 |      173 | Telangana   \n",
            "| boy4   |       65 |      160 | Rajasthan   \n",
            "|====\n"
          ]
        }
      ]
    },
    {
      "cell_type": "markdown",
      "source": [
        "### 10. Orgtbl\n",
        "The orgtbl function in tabulate formats tables in Org-mode style, commonly used in Emacs for structured text and data organization."
      ],
      "metadata": {
        "id": "BnqVfrzuDox0"
      }
    },
    {
      "cell_type": "code",
      "source": [
        "print(tabulate(table,headers=head,tablefmt=\"orgtbl\"))"
      ],
      "metadata": {
        "colab": {
          "base_uri": "https://localhost:8080/"
        },
        "id": "c6V0TxYNDiEt",
        "outputId": "0ccdc32f-61e7-4e4e-8049-e4dcc9c876ee"
      },
      "execution_count": null,
      "outputs": [
        {
          "output_type": "stream",
          "name": "stdout",
          "text": [
            "| Name   |   Weight |   Height | State       |\n",
            "|--------+----------+----------+-------------|\n",
            "| boy1   |       72 |      175 | Gujarat     |\n",
            "| boy2   |       53 |      183 | Maharashtra |\n",
            "| boy3   |       80 |      173 | Telangana   |\n",
            "| boy4   |       65 |      160 | Rajasthan   |\n"
          ]
        }
      ]
    },
    {
      "cell_type": "markdown",
      "source": [
        "#### 11. Jira\n",
        "Using pipes (|) for column separation and hyphens (-) for line breaks."
      ],
      "metadata": {
        "id": "-ouhIgD2D27U"
      }
    },
    {
      "cell_type": "code",
      "source": [
        "print(tabulate(table,headers=head,tablefmt=\"jira\"))"
      ],
      "metadata": {
        "colab": {
          "base_uri": "https://localhost:8080/"
        },
        "id": "dm8jXT50Dz8j",
        "outputId": "80671140-b547-49bf-a8e4-cc453114e235"
      },
      "execution_count": null,
      "outputs": [
        {
          "output_type": "stream",
          "name": "stdout",
          "text": [
            "|| Name   ||   Weight ||   Height || State       ||\n",
            "| boy1   |       72 |      175 | Gujarat     |\n",
            "| boy2   |       53 |      183 | Maharashtra |\n",
            "| boy3   |       80 |      173 | Telangana   |\n",
            "| boy4   |       65 |      160 | Rajasthan   |\n"
          ]
        }
      ]
    },
    {
      "cell_type": "markdown",
      "source": [
        "#### 12. html\n",
        "The html function in tabulate converts tabular data into an HTML table format, making it easy to embed tables in web pages."
      ],
      "metadata": {
        "id": "RQTLQsW9EN9t"
      }
    },
    {
      "cell_type": "code",
      "source": [
        "print(tabulate(table,headers=head,tablefmt=\"html\"))"
      ],
      "metadata": {
        "colab": {
          "base_uri": "https://localhost:8080/"
        },
        "id": "7vVdrG0QEImw",
        "outputId": "aafa65f5-7c81-4f47-9856-7c27843408d8"
      },
      "execution_count": null,
      "outputs": [
        {
          "output_type": "stream",
          "name": "stdout",
          "text": [
            "<table>\n",
            "<thead>\n",
            "<tr><th>Name  </th><th style=\"text-align: right;\">  Weight</th><th style=\"text-align: right;\">  Height</th><th>State      </th></tr>\n",
            "</thead>\n",
            "<tbody>\n",
            "<tr><td>boy1  </td><td style=\"text-align: right;\">      72</td><td style=\"text-align: right;\">     175</td><td>Gujarat    </td></tr>\n",
            "<tr><td>boy2  </td><td style=\"text-align: right;\">      53</td><td style=\"text-align: right;\">     183</td><td>Maharashtra</td></tr>\n",
            "<tr><td>boy3  </td><td style=\"text-align: right;\">      80</td><td style=\"text-align: right;\">     173</td><td>Telangana  </td></tr>\n",
            "<tr><td>boy4  </td><td style=\"text-align: right;\">      65</td><td style=\"text-align: right;\">     160</td><td>Rajasthan  </td></tr>\n",
            "</tbody>\n",
            "</table>\n"
          ]
        }
      ]
    },
    {
      "cell_type": "markdown",
      "source": [
        "#### 13. Latex\n",
        "The latex function in tabulate formats tabular data into LaTeX-compatible tables for seamless integration into LaTeX documents."
      ],
      "metadata": {
        "id": "kvKfcihxEhBE"
      }
    },
    {
      "cell_type": "code",
      "source": [
        "print(tabulate(table,headers=head,tablefmt=\"latex\"))"
      ],
      "metadata": {
        "colab": {
          "base_uri": "https://localhost:8080/"
        },
        "id": "8P-BiOJuEbR3",
        "outputId": "3279f51b-7bfd-4305-e364-b93a37a99cd5"
      },
      "execution_count": null,
      "outputs": [
        {
          "output_type": "stream",
          "name": "stdout",
          "text": [
            "\\begin{tabular}{lrrl}\n",
            "\\hline\n",
            " Name   &   Weight &   Height & State       \\\\\n",
            "\\hline\n",
            " boy1   &       72 &      175 & Gujarat     \\\\\n",
            " boy2   &       53 &      183 & Maharashtra \\\\\n",
            " boy3   &       80 &      173 & Telangana   \\\\\n",
            " boy4   &       65 &      160 & Rajasthan   \\\\\n",
            "\\hline\n",
            "\\end{tabular}\n"
          ]
        }
      ]
    },
    {
      "cell_type": "markdown",
      "source": [
        "## Column Alignment\n"
      ],
      "metadata": {
        "id": "hPDZdgv3E8f-"
      }
    },
    {
      "cell_type": "markdown",
      "source": [
        "When using Tabulate, it's clever about aligning your columns. If a column has only numbers, it aligns them by the decimal point or to the right if they're integers. Text columns, on the other hand, are aligned to the left."
      ],
      "metadata": {
        "id": "sOkbAJ3xFAp-"
      }
    },
    {
      "cell_type": "code",
      "source": [
        "num=[[12.34],[4.567],[8901],[234.5],[2345.234],[0.00843]]\n",
        "print(tabulate(num))"
      ],
      "metadata": {
        "colab": {
          "base_uri": "https://localhost:8080/"
        },
        "id": "BXrwPbDbFHbU",
        "outputId": "7baea140-3aab-4ad4-be62-c43fede933f5"
      },
      "execution_count": null,
      "outputs": [
        {
          "output_type": "stream",
          "name": "stdout",
          "text": [
            "----------\n",
            "  12.34\n",
            "   4.567\n",
            "8901\n",
            " 234.5\n",
            "2345.23\n",
            "   0.00843\n",
            "----------\n"
          ]
        }
      ]
    },
    {
      "cell_type": "code",
      "source": [
        "print(tabulate(num ,numalign='right'))\n",
        "# aligns to right\n",
        "print(tabulate(num ,numalign='left'))\n",
        "#aligns to left"
      ],
      "metadata": {
        "colab": {
          "base_uri": "https://localhost:8080/"
        },
        "id": "TMZeHhrKFHuD",
        "outputId": "5364998e-c005-4ba8-b1e7-d1e81bfc5369"
      },
      "execution_count": null,
      "outputs": [
        {
          "output_type": "stream",
          "name": "stdout",
          "text": [
            "-------\n",
            "  12.34\n",
            "  4.567\n",
            "   8901\n",
            "  234.5\n",
            "2345.23\n",
            "0.00843\n",
            "-------\n",
            "-------\n",
            "12.34\n",
            "4.567\n",
            "8901\n",
            "234.5\n",
            "2345.23\n",
            "0.00843\n",
            "-------\n"
          ]
        }
      ]
    },
    {
      "cell_type": "markdown",
      "source": [
        "Tabulate has a feature in which numbers in strings are alligned properly\n",
        "it reads numbers written as string as integers"
      ],
      "metadata": {
        "id": "vqO5rI2JGRR_"
      }
    },
    {
      "cell_type": "code",
      "source": [
        "table_2 =[['A','23.01'],['B','35.234'],['C','42.45678']]\n",
        "print(tabulate(table_2, numalign=\"right\"))"
      ],
      "metadata": {
        "colab": {
          "base_uri": "https://localhost:8080/"
        },
        "id": "AoR5WiRWFkHQ",
        "outputId": "a1fc7b5a-62a5-489d-d8a4-efddd3d39ae5"
      },
      "execution_count": null,
      "outputs": [
        {
          "output_type": "stream",
          "name": "stdout",
          "text": [
            "-  -------\n",
            "A    23.01\n",
            "B   35.234\n",
            "C  42.4568\n",
            "-  -------\n"
          ]
        }
      ]
    },
    {
      "cell_type": "markdown",
      "source": [
        "To not use this feature, use disable_numparse=True"
      ],
      "metadata": {
        "id": "TfaoOwggGkBE"
      }
    },
    {
      "cell_type": "code",
      "source": [
        "print(tabulate(table_2, disable_numparse=True,numalign=\"right\"))"
      ],
      "metadata": {
        "colab": {
          "base_uri": "https://localhost:8080/"
        },
        "id": "6md548uFGTtL",
        "outputId": "516d5103-f1e1-4c80-f489-690b3388174d"
      },
      "execution_count": null,
      "outputs": [
        {
          "output_type": "stream",
          "name": "stdout",
          "text": [
            "-  --------\n",
            "A  23.01\n",
            "B  35.234\n",
            "C  42.45678\n",
            "-  --------\n"
          ]
        }
      ]
    },
    {
      "cell_type": "markdown",
      "source": [
        "Here it reads numbers as string and does not aligns it due to numalign."
      ],
      "metadata": {
        "id": "qUyRa3EJG9XA"
      }
    },
    {
      "cell_type": "markdown",
      "source": [
        "## Custom column allignment"
      ],
      "metadata": {
        "id": "aXuPRopiHR4p"
      }
    },
    {
      "cell_type": "markdown",
      "source": [
        "You can customize column alignment in Tabulate to fit your needs. Just use the colalign argument, which can be a list or a tuple of alignment options like right, center, left, decimal (for numbers), and None (to disable alignment)."
      ],
      "metadata": {
        "id": "nSbss56PHUnn"
      }
    },
    {
      "cell_type": "code",
      "source": [
        "table_3=[['apple','banana'],['camel','rat'],['toy','play']]\n",
        "print(tabulate(table_3,colalign=(\"right\")))"
      ],
      "metadata": {
        "colab": {
          "base_uri": "https://localhost:8080/"
        },
        "id": "Zpz_AaefGmZb",
        "outputId": "f09f388f-31ee-4dcf-95fc-759633761b71"
      },
      "execution_count": null,
      "outputs": [
        {
          "output_type": "stream",
          "name": "stdout",
          "text": [
            "-----  ------\n",
            "apple  banana\n",
            "camel  rat\n",
            "  toy  play\n",
            "-----  ------\n"
          ]
        }
      ]
    },
    {
      "cell_type": "code",
      "source": [
        "print(tabulate(table_3,colalign=(\"left\")))"
      ],
      "metadata": {
        "colab": {
          "base_uri": "https://localhost:8080/"
        },
        "id": "Sfmjor30HZhK",
        "outputId": "a71a2cc2-8a04-46cc-cefe-2f7e6bbad2cb"
      },
      "execution_count": null,
      "outputs": [
        {
          "output_type": "stream",
          "name": "stdout",
          "text": [
            "-----  ------\n",
            "apple  banana\n",
            "camel  rat\n",
            "toy    play\n",
            "-----  ------\n"
          ]
        }
      ]
    },
    {
      "cell_type": "markdown",
      "source": [
        "## Number formatting\n",
        "You can customize the number format for all decimal columns in Tabulate using the floatfmt argument.\n",
        "\n"
      ],
      "metadata": {
        "id": "_WUKWTQJaGi8"
      }
    },
    {
      "cell_type": "code",
      "source": [
        "table_2 =[['A','23.01'],['B','35.234'],['C','42.45678']]\n",
        "print(tabulate(table_2, floatfmt=\".2f\"))"
      ],
      "metadata": {
        "colab": {
          "base_uri": "https://localhost:8080/"
        },
        "id": "yTxI4OpuHpiv",
        "outputId": "91734a06-bade-4d96-a423-2a95643c0b86"
      },
      "execution_count": null,
      "outputs": [
        {
          "output_type": "stream",
          "name": "stdout",
          "text": [
            "-  -----\n",
            "A  23.01\n",
            "B  35.23\n",
            "C  42.46\n",
            "-  -----\n"
          ]
        }
      ]
    },
    {
      "cell_type": "code",
      "source": [
        "print(tabulate(table_2, floatfmt=\".3f\"))"
      ],
      "metadata": {
        "colab": {
          "base_uri": "https://localhost:8080/"
        },
        "id": "d3I4-sH-amn0",
        "outputId": "3c6b929f-e020-4eb3-f1e2-510486955514"
      },
      "execution_count": null,
      "outputs": [
        {
          "output_type": "stream",
          "name": "stdout",
          "text": [
            "-  ------\n",
            "A  23.010\n",
            "B  35.234\n",
            "C  42.457\n",
            "-  ------\n"
          ]
        }
      ]
    },
    {
      "cell_type": "markdown",
      "source": [
        "intfmt works similarly for integers"
      ],
      "metadata": {
        "id": "jOjG-oSIbE_q"
      }
    },
    {
      "cell_type": "markdown",
      "source": [
        "## Text formatting"
      ],
      "metadata": {
        "id": "rDP0f5WlbIMT"
      }
    },
    {
      "cell_type": "markdown",
      "source": [
        "By default, Tabulate trims any leading or trailing whitespace from text columns. If you want to keep the whitespace, you can set the global module-level flag PRESERVE_WHITESPACE."
      ],
      "metadata": {
        "id": "-8qHkpd5bNCN"
      }
    },
    {
      "cell_type": "code",
      "source": [
        "tabulate.PRESERVE_WHITESPACE = True"
      ],
      "metadata": {
        "id": "yYmFL2MGa_q3"
      },
      "execution_count": null,
      "outputs": []
    },
    {
      "cell_type": "markdown",
      "source": [
        "## Wide (fullwidth CJK) symbols\n",
        "To align tables that include wide characters (like fullwidth glyphs from Chinese, Japanese, or Korean), you should install the wcwidth library. You can install it along with Tabulate as follows:"
      ],
      "metadata": {
        "id": "yXhuKdwrbg1k"
      }
    },
    {
      "cell_type": "code",
      "source": [
        "pip install tabulate[widechars]"
      ],
      "metadata": {
        "colab": {
          "base_uri": "https://localhost:8080/"
        },
        "id": "SAirqYVSbjX3",
        "outputId": "2f5e0056-31de-42a1-a82b-67a78a032235"
      },
      "execution_count": null,
      "outputs": [
        {
          "output_type": "stream",
          "name": "stdout",
          "text": [
            "Requirement already satisfied: tabulate[widechars] in /usr/local/lib/python3.11/dist-packages (0.9.0)\n",
            "Requirement already satisfied: wcwidth in /usr/local/lib/python3.11/dist-packages (from tabulate[widechars]) (0.2.13)\n"
          ]
        }
      ]
    },
    {
      "cell_type": "markdown",
      "source": [
        "If the wcwidth library is installed, wide character support is automatically enabled. To turn off wide character support without uninstalling wcwidth, set the global module-level flag WIDE_CHARS_MODE"
      ],
      "metadata": {
        "id": "dNZdq_srb-q1"
      }
    },
    {
      "cell_type": "code",
      "source": [
        "tabulate.WIDE_CHARS_MODE = False"
      ],
      "metadata": {
        "id": "VmXkqAunbpxd"
      },
      "execution_count": null,
      "outputs": []
    },
    {
      "cell_type": "markdown",
      "source": [
        "##  Multiline cells\n",
        "Most table formats allow multiline cell text, which includes newline characters treated as line breaks.\n",
        "\n",
        "Both data and header rows can contain multiline cells. No additional line breaks are automatically inserted; however, formats like LaTeX and HTML may handle their own formatting. For formats that don’t, newline characters in the cell text are the only method to create line breaks."
      ],
      "metadata": {
        "id": "LeotRGsPcOD7"
      }
    },
    {
      "cell_type": "markdown",
      "source": [
        "Be aware that some formats, such as simple or plain, do not show row delimiters, making multiline cells potentially unclear to the reader."
      ],
      "metadata": {
        "id": "43PVD9BfcjVB"
      }
    },
    {
      "cell_type": "code",
      "source": [
        "table_4 = [[\"cars\",345],[\"motor\\nbikes\",196]]\n",
        "headers_4 = [\"vehicle\\ntype\", \"count\"]"
      ],
      "metadata": {
        "id": "u-e_4kIBcKZm"
      },
      "execution_count": null,
      "outputs": []
    },
    {
      "cell_type": "markdown",
      "source": [
        "#### 1. Plain Table\n"
      ],
      "metadata": {
        "id": "MvbgTwskcnTZ"
      }
    },
    {
      "cell_type": "code",
      "source": [
        "print(tabulate(table_4, headers=headers_4, tablefmt=\"plain\"))"
      ],
      "metadata": {
        "colab": {
          "base_uri": "https://localhost:8080/"
        },
        "id": "G9dEv6BQcmas",
        "outputId": "aa16394a-5c31-4c9b-92cb-8a37a6623983"
      },
      "execution_count": null,
      "outputs": [
        {
          "output_type": "stream",
          "name": "stdout",
          "text": [
            "vehicle      count\n",
            "type\n",
            "cars           345\n",
            "motor          196\n",
            "bikes\n"
          ]
        }
      ]
    },
    {
      "cell_type": "markdown",
      "source": [
        "#### 2. Simple table"
      ],
      "metadata": {
        "id": "nuR_WHc4czNE"
      }
    },
    {
      "cell_type": "code",
      "source": [
        "print(tabulate(table_4, headers=headers_4, tablefmt=\"simple\"))"
      ],
      "metadata": {
        "colab": {
          "base_uri": "https://localhost:8080/"
        },
        "id": "TzN5ihbMcv-A",
        "outputId": "b553cf28-2a65-4d6e-e725-97b781353301"
      },
      "execution_count": null,
      "outputs": [
        {
          "output_type": "stream",
          "name": "stdout",
          "text": [
            "vehicle      count\n",
            "type\n",
            "---------  -------\n",
            "cars           345\n",
            "motor          196\n",
            "bikes\n"
          ]
        }
      ]
    },
    {
      "cell_type": "markdown",
      "source": [
        "#### 3. Grid Table"
      ],
      "metadata": {
        "id": "FPTkulNEc8OE"
      }
    },
    {
      "cell_type": "code",
      "source": [
        "print(tabulate(table_4, headers=headers_4, tablefmt=\"grid\"))\n"
      ],
      "metadata": {
        "colab": {
          "base_uri": "https://localhost:8080/"
        },
        "id": "F56xaznKc32O",
        "outputId": "eae1ce9c-c0d4-407a-9678-354e41dd8c7a"
      },
      "execution_count": null,
      "outputs": [
        {
          "output_type": "stream",
          "name": "stdout",
          "text": [
            "+-----------+---------+\n",
            "| vehicle   |   count |\n",
            "| type      |         |\n",
            "+===========+=========+\n",
            "| cars      |     345 |\n",
            "+-----------+---------+\n",
            "| motor     |     196 |\n",
            "| bikes     |         |\n",
            "+-----------+---------+\n"
          ]
        }
      ]
    },
    {
      "cell_type": "markdown",
      "source": [
        "#### 3.1 Fancy grid table"
      ],
      "metadata": {
        "id": "aqYCl_KefRb2"
      }
    },
    {
      "cell_type": "code",
      "source": [
        "print(tabulate(table_4, headers=headers_4, tablefmt=\"fancy_grid\"))"
      ],
      "metadata": {
        "colab": {
          "base_uri": "https://localhost:8080/"
        },
        "id": "0c1RhThQdDYM",
        "outputId": "a5991e9a-15ee-481c-9da4-fa7e4232e405"
      },
      "execution_count": null,
      "outputs": [
        {
          "output_type": "stream",
          "name": "stdout",
          "text": [
            "╒═══════════╤═════════╕\n",
            "│ vehicle   │   count │\n",
            "│ type      │         │\n",
            "╞═══════════╪═════════╡\n",
            "│ cars      │     345 │\n",
            "├───────────┼─────────┤\n",
            "│ motor     │     196 │\n",
            "│ bikes     │         │\n",
            "╘═══════════╧═════════╛\n"
          ]
        }
      ]
    },
    {
      "cell_type": "markdown",
      "source": [
        "#### 3.2 Pipe Table"
      ],
      "metadata": {
        "id": "hT-utYLtfcHR"
      }
    },
    {
      "cell_type": "code",
      "source": [
        "print(tabulate(table_4, headers=headers_4, tablefmt=\"pipe\"))"
      ],
      "metadata": {
        "colab": {
          "base_uri": "https://localhost:8080/"
        },
        "id": "HbZ0fdw4fZMK",
        "outputId": "4cdcf596-4a6b-483d-e460-4a84e2fd1b6e"
      },
      "execution_count": null,
      "outputs": [
        {
          "output_type": "stream",
          "name": "stdout",
          "text": [
            "| vehicle   |   count |\n",
            "| type      |         |\n",
            "|:----------|--------:|\n",
            "| cars      |     345 |\n",
            "| motor     |     196 |\n",
            "| bikes     |         |\n"
          ]
        }
      ]
    },
    {
      "cell_type": "markdown",
      "source": [
        "#### 3.3 Orgtbl tables"
      ],
      "metadata": {
        "id": "3sOERFElfktU"
      }
    },
    {
      "cell_type": "code",
      "source": [
        "print(tabulate(table_4, headers=headers_4, tablefmt=\"orgtbl\"))"
      ],
      "metadata": {
        "colab": {
          "base_uri": "https://localhost:8080/"
        },
        "id": "JS1pmYCXfidA",
        "outputId": "b1f249b1-0929-4c2a-892c-57c86ce41b33"
      },
      "execution_count": null,
      "outputs": [
        {
          "output_type": "stream",
          "name": "stdout",
          "text": [
            "| vehicle   |   count |\n",
            "| type      |         |\n",
            "|-----------+---------|\n",
            "| cars      |     345 |\n",
            "| motor     |     196 |\n",
            "| bikes     |         |\n"
          ]
        }
      ]
    },
    {
      "cell_type": "markdown",
      "source": [
        "#### 3.4 Jira"
      ],
      "metadata": {
        "id": "VZW9zLFMfzpT"
      }
    },
    {
      "cell_type": "code",
      "source": [
        "print(tabulate(table_4, headers=headers_4, tablefmt=\"jira\"))"
      ],
      "metadata": {
        "colab": {
          "base_uri": "https://localhost:8080/"
        },
        "id": "IWtK5cX8ftZF",
        "outputId": "9ebff390-54d6-46aa-f38f-aa84059e38f4"
      },
      "execution_count": null,
      "outputs": [
        {
          "output_type": "stream",
          "name": "stdout",
          "text": [
            "|| vehicle   ||   count ||\n",
            "|| type      ||         ||\n",
            "| cars      |     345 |\n",
            "| motor     |     196 |\n",
            "| bikes     |         |\n"
          ]
        }
      ]
    },
    {
      "cell_type": "markdown",
      "source": [
        "#### 3.5 Pretty Table"
      ],
      "metadata": {
        "id": "2-tX_lqPf7TC"
      }
    },
    {
      "cell_type": "code",
      "source": [
        "print(tabulate(table_4, headers=headers_4, tablefmt=\"pretty\"))"
      ],
      "metadata": {
        "colab": {
          "base_uri": "https://localhost:8080/"
        },
        "id": "GVbfL_PLf4em",
        "outputId": "4f0d11b0-323c-4976-8e6f-19c20aa3c2eb"
      },
      "execution_count": null,
      "outputs": [
        {
          "output_type": "stream",
          "name": "stdout",
          "text": [
            "+---------+-------+\n",
            "| vehicle | count |\n",
            "|  type   |       |\n",
            "+---------+-------+\n",
            "|  cars   |  345  |\n",
            "|  motor  |  196  |\n",
            "|  bikes  |       |\n",
            "+---------+-------+\n"
          ]
        }
      ]
    },
    {
      "cell_type": "markdown",
      "source": [
        "#### 3.6 Psql Table"
      ],
      "metadata": {
        "id": "qseoIkqfgEhX"
      }
    },
    {
      "cell_type": "code",
      "source": [
        "print(tabulate(table_4, headers=headers_4, tablefmt=\"psql\"))"
      ],
      "metadata": {
        "colab": {
          "base_uri": "https://localhost:8080/"
        },
        "id": "xdgrmRvKgAGn",
        "outputId": "28e6a3ab-6115-4724-83c6-2eeb382af06e"
      },
      "execution_count": null,
      "outputs": [
        {
          "output_type": "stream",
          "name": "stdout",
          "text": [
            "+-----------+---------+\n",
            "| vehicle   |   count |\n",
            "| type      |         |\n",
            "|-----------+---------|\n",
            "| cars      |     345 |\n",
            "| motor     |     196 |\n",
            "| bikes     |         |\n",
            "+-----------+---------+\n"
          ]
        }
      ]
    },
    {
      "cell_type": "markdown",
      "source": [
        "#### 3.7 Rst Table"
      ],
      "metadata": {
        "id": "I6Cr7HrHgLII"
      }
    },
    {
      "cell_type": "code",
      "source": [
        "print(tabulate(table_4, headers=headers_4, tablefmt=\"rst\"))"
      ],
      "metadata": {
        "colab": {
          "base_uri": "https://localhost:8080/"
        },
        "id": "irBeZBlLgJ-V",
        "outputId": "416bbe8c-166a-4e7f-eb1f-615a5e254a63"
      },
      "execution_count": null,
      "outputs": [
        {
          "output_type": "stream",
          "name": "stdout",
          "text": [
            "=========  =======\n",
            "vehicle      count\n",
            "type\n",
            "=========  =======\n",
            "cars           345\n",
            "motor          196\n",
            "bikes\n",
            "=========  =======\n"
          ]
        }
      ]
    },
    {
      "cell_type": "markdown",
      "source": [
        "## Automating Multilines"
      ],
      "metadata": {
        "id": "0EHZ3gzsgUWx"
      }
    },
    {
      "cell_type": "markdown",
      "source": [
        "While Tabulate supports data with explicitly provided multiline entries, it also offers internal support to handle this."
      ],
      "metadata": {
        "id": "iy7Vu5Y2gc63"
      }
    },
    {
      "cell_type": "markdown",
      "source": [
        "The maxcolwidths argument is a list where each entry specifies the maximum width for its respective column. If a cell exceeds this width, its content will be automatically wrapped. To set the same maximum width for all columns, use a single integer value."
      ],
      "metadata": {
        "id": "_ccK2Q4JggHf"
      }
    },
    {
      "cell_type": "markdown",
      "source": [
        "Use None for columns where no explicit maximum is needed, thus no automatic multiline wrapping will occur."
      ],
      "metadata": {
        "id": "bUS26a6Ogj33"
      }
    },
    {
      "cell_type": "markdown",
      "source": [
        "\n",
        "The wrapping process uses Python's standard textwrap.wrap function with default parameters, except for width."
      ],
      "metadata": {
        "id": "8YYvo_F2gjhS"
      }
    },
    {
      "cell_type": "code",
      "source": [
        "print(tabulate([[\"Rahul\", \"CEO\"]], headers=[\"Name\", \"Designation\"], tablefmt=\"grid\", maxcolwidths=[None, 8]))"
      ],
      "metadata": {
        "colab": {
          "base_uri": "https://localhost:8080/"
        },
        "id": "tTXoiNJUgP8i",
        "outputId": "fffcbc16-9876-432e-a59c-975463785482"
      },
      "execution_count": null,
      "outputs": [
        {
          "output_type": "stream",
          "name": "stdout",
          "text": [
            "+--------+---------------+\n",
            "| Name   | Designation   |\n",
            "+========+===============+\n",
            "| Rahul  | CEO           |\n",
            "+--------+---------------+\n"
          ]
        }
      ]
    },
    {
      "cell_type": "markdown",
      "source": [
        "## Adding Separating lines\n",
        "If you want to highlight different sections in a table, you can add one or more separating lines. These lines will match the type specified by the formatter. If no specific line type is defined, a simple empty line will be used.\n",
        "\n"
      ],
      "metadata": {
        "id": "QGkUH9eug9wT"
      }
    },
    {
      "cell_type": "code",
      "source": [
        "from tabulate import tabulate, SEPARATING_LINE\n",
        "\n",
        "table = [[\"A\",23],\n",
        "         [\"B\",35],\n",
        "         SEPARATING_LINE,\n",
        "         [\"C\",42]]\n",
        "print(tabulate(table, tablefmt=\"simple\"))"
      ],
      "metadata": {
        "colab": {
          "base_uri": "https://localhost:8080/"
        },
        "id": "GLn7RiiVgunr",
        "outputId": "9e42a805-7d78-4bb3-93ea-76ea5153f66b"
      },
      "execution_count": null,
      "outputs": [
        {
          "output_type": "stream",
          "name": "stdout",
          "text": [
            "-  --\n",
            "A  23\n",
            "B  35\n",
            "-  --\n",
            "C  42\n",
            "-  --\n"
          ]
        }
      ]
    },
    {
      "cell_type": "markdown",
      "source": [
        "## Practical Use Cases"
      ],
      "metadata": {
        "id": "jAFXjt04kJ5j"
      }
    },
    {
      "cell_type": "markdown",
      "source": [
        "1. tabulate() – Displaying Sales Reports in CLI"
      ],
      "metadata": {
        "id": "a0ryWxCfnf7m"
      }
    },
    {
      "cell_type": "markdown",
      "source": [
        "Use Case: A sales manager wants to generate a quick summary of product sales.\n",
        "\n",
        "Real-Life Application: Used in retail businesses for sales summaries."
      ],
      "metadata": {
        "id": "TuVUaXcZnlFp"
      }
    },
    {
      "cell_type": "markdown",
      "source": [
        "\n",
        "2. tabulate_formats() – Choosing the Best Format for a Dashboard"
      ],
      "metadata": {
        "id": "lOwSEDzwnxXc"
      }
    },
    {
      "cell_type": "markdown",
      "source": [
        " Use Case: A developer needs to check available table formats to pick the best one for a report.\n",
        "\n",
        " Real-Life Application: Used by software developers and data analysts to find the best format for console applications or logs."
      ],
      "metadata": {
        "id": "SpnwA2y7n031"
      }
    },
    {
      "cell_type": "markdown",
      "source": [
        "3. latex() – Formatting Research Data for a Report\n"
      ],
      "metadata": {
        "id": "uYo3JmGZn_zc"
      }
    },
    {
      "cell_type": "markdown",
      "source": [
        "Use Case: A researcher needs to present structured data in a LaTeX document for publication.\n",
        "\n",
        "Real-Life Application: Used in academic research and scientific publications."
      ],
      "metadata": {
        "id": "DwXNadHmn_vo"
      }
    },
    {
      "cell_type": "markdown",
      "source": [
        "4. html() – Creating a Table for a Website"
      ],
      "metadata": {
        "id": "CCbA9YI3oDkR"
      }
    },
    {
      "cell_type": "markdown",
      "source": [
        "Use Case: A web developer wants to generate an HTML table for a product listing page.\n",
        "\n",
        "Real-Life Application: Used in e-commerce websites to display products.\n",
        "\n"
      ],
      "metadata": {
        "id": "cHhLxY57oPA9"
      }
    },
    {
      "cell_type": "markdown",
      "source": [
        "5. TableFormat() – Creating a Custom Report Format for a Logistics Company"
      ],
      "metadata": {
        "id": "Le0QYZyWoV51"
      }
    },
    {
      "cell_type": "markdown",
      "source": [
        "Use Case: A logistics company wants to customize the layout of their shipment report.\n",
        "\n",
        "Real-Life Application: Used in logistics companies for structured reports."
      ],
      "metadata": {
        "id": "g_U4V0jOoWyE"
      }
    },
    {
      "cell_type": "markdown",
      "source": [
        "# Demonstration"
      ],
      "metadata": {
        "id": "hGQCfWs6ws47"
      }
    },
    {
      "cell_type": "markdown",
      "source": [
        "## We can use a dataset of car sales information, which includes various attributes of different car models and their sales figures. This dataset will allow us to demonstrate how tabulate can be more useful than pandas for creating tables, especially when it comes to formatting and readability."
      ],
      "metadata": {
        "id": "5gHlBRRhwed6"
      }
    },
    {
      "cell_type": "code",
      "source": [
        "import pandas as pd\n",
        "\n",
        "data = {\n",
        "    'Make': ['Toyota', 'Honda', 'Ford', 'Chevrolet', 'Nissan', 'BMW', 'Mercedes-Benz', 'Audi', 'Lexus', 'Hyundai'],\n",
        "    'Model': ['Camry', 'Civic', 'F-150', 'Silverado', 'Altima', '3 Series', 'C-Class', 'A4', 'RX', 'Sonata'],\n",
        "    'Year': [2022, 2022, 2022, 2022, 2022, 2022, 2022, 2022, 2022, 2022],\n",
        "    'Price': [25000, 22000, 35000, 32000, 24000, 45000, 50000, 42000, 48000, 23000],\n",
        "    'Sales': [294348, 261225, 726004, 519774, 183183, 243277, 213708, 133964, 101059, 140979],\n",
        "    'MPG_City': [28, 30, 20, 21, 28, 26, 25, 24, 31, 28],\n",
        "    'MPG_Highway': [39, 38, 26, 28, 39, 36, 34, 32, 28, 38],\n",
        "    'Customer_Rating': [4.5, 4.3, 4.7, 4.6, 4.2, 4.4, 4.5, 4.3, 4.6, 4.1]\n",
        "}\n",
        "\n",
        "df = pd.DataFrame(data)\n"
      ],
      "metadata": {
        "id": "20_S-xkFwvcs"
      },
      "execution_count": 2,
      "outputs": []
    },
    {
      "cell_type": "markdown",
      "source": [
        "#### First let us see how we can display table using Pandas"
      ],
      "metadata": {
        "id": "dcOpeiPrw6cv"
      }
    },
    {
      "cell_type": "code",
      "source": [
        "print(df.to_string(index=True))"
      ],
      "metadata": {
        "colab": {
          "base_uri": "https://localhost:8080/",
          "height": 0
        },
        "id": "vMEXSPq1wzUI",
        "outputId": "a20f6d6f-34d2-43aa-d300-4bcfae308910"
      },
      "execution_count": 6,
      "outputs": [
        {
          "output_type": "stream",
          "name": "stdout",
          "text": [
            "            Make      Model  Year  Price   Sales  MPG_City  MPG_Highway  Customer_Rating\n",
            "0         Toyota      Camry  2022  25000  294348        28           39              4.5\n",
            "1          Honda      Civic  2022  22000  261225        30           38              4.3\n",
            "2           Ford      F-150  2022  35000  726004        20           26              4.7\n",
            "3      Chevrolet  Silverado  2022  32000  519774        21           28              4.6\n",
            "4         Nissan     Altima  2022  24000  183183        28           39              4.2\n",
            "5            BMW   3 Series  2022  45000  243277        26           36              4.4\n",
            "6  Mercedes-Benz    C-Class  2022  50000  213708        25           34              4.5\n",
            "7           Audi         A4  2022  42000  133964        24           32              4.3\n",
            "8          Lexus         RX  2022  48000  101059        31           28              4.6\n",
            "9        Hyundai     Sonata  2022  23000  140979        28           38              4.1\n"
          ]
        }
      ]
    },
    {
      "cell_type": "markdown",
      "source": [
        "#### Now we will display same table using Tabulate"
      ],
      "metadata": {
        "id": "t1xmoYSMxDwg"
      }
    },
    {
      "cell_type": "code",
      "source": [
        "from tabulate import tabulate\n",
        "\n",
        "print(tabulate(df, headers='keys', tablefmt='grid', showindex=True, floatfmt='.2f'))\n"
      ],
      "metadata": {
        "colab": {
          "base_uri": "https://localhost:8080/",
          "height": 0
        },
        "id": "MD2wRMPjxIp8",
        "outputId": "a4bf476d-cfa9-49db-b191-d965867a7bb0"
      },
      "execution_count": 9,
      "outputs": [
        {
          "output_type": "stream",
          "name": "stdout",
          "text": [
            "+----+---------------+-----------+--------+---------+---------+------------+---------------+-------------------+\n",
            "|    | Make          | Model     |   Year |   Price |   Sales |   MPG_City |   MPG_Highway |   Customer_Rating |\n",
            "+====+===============+===========+========+=========+=========+============+===============+===================+\n",
            "|  0 | Toyota        | Camry     |   2022 |   25000 |  294348 |         28 |            39 |              4.50 |\n",
            "+----+---------------+-----------+--------+---------+---------+------------+---------------+-------------------+\n",
            "|  1 | Honda         | Civic     |   2022 |   22000 |  261225 |         30 |            38 |              4.30 |\n",
            "+----+---------------+-----------+--------+---------+---------+------------+---------------+-------------------+\n",
            "|  2 | Ford          | F-150     |   2022 |   35000 |  726004 |         20 |            26 |              4.70 |\n",
            "+----+---------------+-----------+--------+---------+---------+------------+---------------+-------------------+\n",
            "|  3 | Chevrolet     | Silverado |   2022 |   32000 |  519774 |         21 |            28 |              4.60 |\n",
            "+----+---------------+-----------+--------+---------+---------+------------+---------------+-------------------+\n",
            "|  4 | Nissan        | Altima    |   2022 |   24000 |  183183 |         28 |            39 |              4.20 |\n",
            "+----+---------------+-----------+--------+---------+---------+------------+---------------+-------------------+\n",
            "|  5 | BMW           | 3 Series  |   2022 |   45000 |  243277 |         26 |            36 |              4.40 |\n",
            "+----+---------------+-----------+--------+---------+---------+------------+---------------+-------------------+\n",
            "|  6 | Mercedes-Benz | C-Class   |   2022 |   50000 |  213708 |         25 |            34 |              4.50 |\n",
            "+----+---------------+-----------+--------+---------+---------+------------+---------------+-------------------+\n",
            "|  7 | Audi          | A4        |   2022 |   42000 |  133964 |         24 |            32 |              4.30 |\n",
            "+----+---------------+-----------+--------+---------+---------+------------+---------------+-------------------+\n",
            "|  8 | Lexus         | RX        |   2022 |   48000 |  101059 |         31 |            28 |              4.60 |\n",
            "+----+---------------+-----------+--------+---------+---------+------------+---------------+-------------------+\n",
            "|  9 | Hyundai       | Sonata    |   2022 |   23000 |  140979 |         28 |            38 |              4.10 |\n",
            "+----+---------------+-----------+--------+---------+---------+------------+---------------+-------------------+\n"
          ]
        }
      ]
    },
    {
      "cell_type": "markdown",
      "source": [
        "Key points why Tabulate is more suitable than Pandas.\n",
        "\n",
        "1. Tabulate offers various table formats (e.g., 'grid', 'pipe', 'orgtbl', 'rst') that can be easily changed to suit different output needs.\n",
        "\n",
        "2. Tabulate automatically aligns numeric columns to the right and text columns to the left, improving readability.\n",
        "\n",
        "3. Tabulate allows easy control over decimal places for float values using the 'floatfmt' parameter.\n",
        "\n",
        "4. Tabulate can create ASCII art tables that are more visually appealing and easier to read in plain text environments.\n",
        "\n",
        "5. Tabulate can work with various data structures (lists, dictionaries, pandas DataFrames) making it versatile for different data sources.\n",
        "\n",
        "6. Tabulate can generate tables in Markdown and other formats, which is useful for documentation and web content.\n",
        "\n",
        "7. Tabulate offers better control over column widths, ensuring a more consistent look across different data types.\n",
        "\n",
        "8. Tables generated by tabulate are often **easier to copy and paste into other applications while maintaining their structure.**"
      ],
      "metadata": {
        "id": "7dETOvhaxnwQ"
      }
    },
    {
      "cell_type": "markdown",
      "source": [
        "# Conclusion"
      ],
      "metadata": {
        "id": "O7J-ba6tNt0q"
      }
    },
    {
      "cell_type": "markdown",
      "source": [
        "## Key takeaways"
      ],
      "metadata": {
        "id": "_SkEWfcaLEM3"
      }
    },
    {
      "cell_type": "markdown",
      "source": [
        "- An introduction to Tabulate and its main features\n",
        "\n",
        "- Installation and setup instructions\n",
        "\n",
        "- Key functions like TableFormat and tabulate()\n",
        "\n",
        "- Customization options for headers, alignments, and table styles\n",
        "\n",
        "- Practical usage examples and applications"
      ],
      "metadata": {
        "id": "CR_Ys-ncLFtN"
      }
    },
    {
      "cell_type": "markdown",
      "source": [
        "## Why to use ?\n",
        "Still may you have this questoin why to use Tabulate, the answer is simple, It is Versatility,have Multiple Output Formats, can do Automatic Column Alignment, Customization Options, Ease of Use, Readability.\n",
        "\n",
        "Apart from this some major points are listed down below.\n",
        "\n",
        "- It works well with other data processing libraries like pandas, enhancing its utility in data analysis workflows.\n",
        "\n",
        "- Tabulate is useful for displaying data in command-line interfaces (CLIs), making it valuable for scripting and automation tasks.\n",
        "\n",
        "- It can be used to generate tables for reports and presentations, improving the visual presentation of data.\n",
        "\n",
        "- Tabulate works well in Jupyter Notebooks, a popular environment for data analysis and scientific computing."
      ],
      "metadata": {
        "id": "NF7FMZ4iN0Ba"
      }
    },
    {
      "cell_type": "markdown",
      "source": [
        "## Where to use?\n",
        "The tabulate library is extremely useful in business, research, web development, logistics, and retail. Whether you're displaying sales reports, creating research tables, or formatting HTML tables for a website, tabulate helps improve data presentation. Its versatility in handling different input types and output formats makes it a go-to choice for many Python projects.\n",
        "\n",
        "\n"
      ],
      "metadata": {
        "id": "UrbdHbwoocT9"
      }
    },
    {
      "cell_type": "markdown",
      "source": [
        "# Know before go\n",
        "\n",
        "Lastly, mastering Tabulate can significantly improve your data presentation skills in Python. We encourage you to explore further and experiment with the library to unlock its full potential in your projects.\n",
        "\n"
      ],
      "metadata": {
        "id": "5ijlQsAtNRXO"
      }
    },
    {
      "cell_type": "markdown",
      "source": [
        "# Reference and Acknowledgement"
      ],
      "metadata": {
        "id": "XXEJzMpjpZm4"
      }
    },
    {
      "cell_type": "markdown",
      "source": [
        "- Tabulate Official Documentation: https://pypi.org/project/tabulate/\n",
        "\n",
        "- Reference blog website: https://www.pickl.ai/blog/how-to-tabulate-data-in-python/#:~:text=The%20tabulate%20module%20provides%20an,efficiently%20for%20analysis%20or%20reporting.\n",
        "\n",
        "- Basic youtube video to start with : https://www.youtube.com/watch?v=Yq0lbu8goeA&ab_channel=InvalidEntry\n",
        "\n",
        "\n",
        "- Our GitHub Repository for Tabulate: https://github.com/vivek-314/Exposition-Assignment-.git\n",
        "\n"
      ],
      "metadata": {
        "id": "wxk0d2UxpdXS"
      }
    }
  ]
}
